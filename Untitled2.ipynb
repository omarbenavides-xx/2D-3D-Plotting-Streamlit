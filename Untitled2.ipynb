{
  "nbformat": 4,
  "nbformat_minor": 0,
  "metadata": {
    "colab": {
      "provenance": [],
      "authorship_tag": "ABX9TyO6mGTLg3iXXhvn7Vl/BKL/",
      "include_colab_link": true
    },
    "kernelspec": {
      "name": "python3",
      "display_name": "Python 3"
    },
    "language_info": {
      "name": "python"
    }
  },
  "cells": [
    {
      "cell_type": "markdown",
      "metadata": {
        "id": "view-in-github",
        "colab_type": "text"
      },
      "source": [
        "<a href=\"https://colab.research.google.com/github/omarbenavides-xx/2D-3D-Plotting-Streamlit/blob/1/Untitled2.ipynb\" target=\"_parent\"><img src=\"https://colab.research.google.com/assets/colab-badge.svg\" alt=\"Open In Colab\"/></a>"
      ]
    },
    {
      "cell_type": "markdown",
      "source": [
        "### Introducción\n",
        "\n",
        "En este proyecto, desarrollaremos una **aplicación multipágina en Streamlit** que permite visualizar gráficos en 2D y 3D utilizando el módulo **SymPy**. Esta herramienta es ideal para graficar funciones matemáticas en una interfaz interactiva, lo cual facilita el análisis visual de diferentes expresiones.\n",
        "\n",
        "La aplicación se compone de dos partes principales:\n",
        "1. **Gráficos 2D de funciones**: se utilizan para representar funciones de una sola variable en el plano bidimensional.\n",
        "2. **Gráficos 3D de funciones de dos variables**: permiten visualizar superficies tridimensionales de funciones que dependen de dos variables.\n",
        "\n",
        "Cada una de estas funcionalidades se implementará en subpáginas específicas, donde se incluirán tanto la teoría como el código necesario para generar los gráficos utilizando SymPy.\n"
      ],
      "metadata": {
        "id": "jeI-nh0MBJed"
      }
    }
  ]
}