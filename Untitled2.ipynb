{
  "nbformat": 4,
  "nbformat_minor": 0,
  "metadata": {
    "colab": {
      "provenance": [],
      "authorship_tag": "ABX9TyNxO1ePPxP8GxX7i0G+biFQ",
      "include_colab_link": true
    },
    "kernelspec": {
      "name": "python3",
      "display_name": "Python 3"
    },
    "language_info": {
      "name": "python"
    }
  },
  "cells": [
    {
      "cell_type": "markdown",
      "metadata": {
        "id": "view-in-github",
        "colab_type": "text"
      },
      "source": [
        "<a href=\"https://colab.research.google.com/github/omarbenavides-xx/2D-3D-Plotting-Streamlit/blob/2/Untitled2.ipynb\" target=\"_parent\"><img src=\"https://colab.research.google.com/assets/colab-badge.svg\" alt=\"Open In Colab\"/></a>"
      ]
    },
    {
      "cell_type": "markdown",
      "source": [
        "### Introducción\n",
        "\n",
        "En este proyecto, desarrollaremos una **aplicación multipágina en Streamlit** que permite visualizar gráficos en 2D y 3D utilizando el módulo **SymPy**. Esta herramienta es ideal para graficar funciones matemáticas en una interfaz interactiva, lo cual facilita el análisis visual de diferentes expresiones.\n",
        "\n",
        "La aplicación se compone de dos partes principales:\n",
        "1. **Gráficos 2D de funciones**: se utilizan para representar funciones de una sola variable en el plano bidimensional.\n",
        "2. **Gráficos 3D de funciones de dos variables**: permiten visualizar superficies tridimensionales de funciones que dependen de dos variables.\n",
        "\n",
        "Cada una de estas funcionalidades se implementará en subpáginas específicas, donde se incluirán tanto la teoría como el código necesario para generar los gráficos utilizando SymPy.\n"
      ],
      "metadata": {
        "id": "jeI-nh0MBJed"
      }
    },
    {
      "cell_type": "markdown",
      "source": [
        "### Teoría y Código para Gráficos en SymPy\n",
        "\n",
        "#### 1. Gráficos 2D de Funciones\n",
        "\n",
        "**Función de SymPy:** `plot`\n",
        "\n",
        "La función `plot` en SymPy se utiliza para crear gráficos de curvas en 2D de una sola variable. Esta función permite personalizar el rango de la variable, así como ajustar el color, el título, las etiquetas y los límites de los ejes.\n",
        "\n",
        "**Parámetros principales:**\n",
        "\n",
        "- `expr`: Expresión de la función en una variable.\n",
        "- `range`: Tupla que define el rango para la variable libre, por ejemplo `(x, -5, 5)`.\n",
        "- `line_color`: Color de la línea del gráfico.\n",
        "- `title`: Título del gráfico.\n",
        "- `xlabel` y `ylabel`: Etiquetas para los ejes `x` y `y`.\n"
      ],
      "metadata": {
        "id": "usSHw7xyCX4R"
      }
    },
    {
      "cell_type": "code",
      "source": [],
      "metadata": {
        "id": "XgLO4aH4CcL8"
      },
      "execution_count": null,
      "outputs": []
    }
  ]
}